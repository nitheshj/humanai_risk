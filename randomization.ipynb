{
 "cells": [
  {
   "cell_type": "markdown",
   "metadata": {
    "collapsed": true,
    "pycharm": {
     "name": "#%% md\n"
    }
   },
   "source": [
    "### Script to test randomizations\n",
    "\n",
    "Importing the libraries required"
   ]
  },
  {
   "cell_type": "code",
   "source": [
    "import pandas as pd\n",
    "import random\n",
    "from collections import OrderedDict\n",
    "\n",
    "df = pd.read_csv('data/T2_game_face_data.csv')\n",
    "\n",
    "df.head()"
   ],
   "metadata": {
    "collapsed": false,
    "pycharm": {
     "name": "#%%\n"
    }
   },
   "execution_count": 21,
   "outputs": [
    {
     "data": {
      "text/plain": "  Treatment  TreatID Credit_rating  Target Race Gender        Age  \\\n0        T2        1     Very Good  AF-201    A      F  23.666667   \n1        T2        2          Poor  AF-205    A      F  26.592593   \n2        T2        3          Poor  AF-207    A      F  28.413793   \n3        T2        4          Poor  AF-211    A      F  22.500000   \n4        T2        5     Very Good  AF-212    A      F  23.857143   \n\n   NumberofRaters  Female_prop  Male_prop  ...  \\\n0              27     1.000000   0.000000  ...   \n1              26     1.000000   0.000000  ...   \n2              28     1.000000   0.000000  ...   \n3              26     0.923077   0.076923  ...   \n4              28     1.000000   0.000000  ...   \n\n   d0781c8e-3afb-4646-a9b4-aae25df3a878  44a04a3d-f584-4b04-876a-1cc0355bc4c0  \\\n0                                     1                                     1   \n1                                     4                                     5   \n2                                     4                                     5   \n3                                     4                                     5   \n4                                     1                                     1   \n\n   bc432d2f-43a1-4689-9677-f966ab34db25  554f6cf7-20f1-4f65-b0b9-99cf186f5c8b  \\\n0                                     2                                     2   \n1                                     5                                     5   \n2                                     5                                     5   \n3                                     5                                     5   \n4                                     2                                     2   \n\n   45309d4c-d0d3-405e-b78d-66f73d030ba7  ddfef11a-4fb7-4902-ac61-5ea4c467d071  \\\n0                                     2                                     1   \n1                                     5                                     4   \n2                                     5                                     4   \n3                                     5                                     5   \n4                                     2                                     2   \n\n   b7fc5cb1-9144-4ed5-977e-10aef25db405  80295a59-fa52-4931-9e12-3da112aa1b5e  \\\n0                                     3                                     2   \n1                                     5                                     5   \n2                                     5                                     5   \n3                                     5                                     5   \n4                                     2                                     2   \n\n   70d3a688-4e4a-484f-a914-d412e8d806f4  f63d7c49-ab2b-476d-bac1-7957045f4e36  \n0                                     2                                     2  \n1                                     5                                     5  \n2                                     5                                     5  \n3                                     5                                     5  \n4                                     2                                     2  \n\n[5 rows x 281 columns]",
      "text/html": "<div>\n<style scoped>\n    .dataframe tbody tr th:only-of-type {\n        vertical-align: middle;\n    }\n\n    .dataframe tbody tr th {\n        vertical-align: top;\n    }\n\n    .dataframe thead th {\n        text-align: right;\n    }\n</style>\n<table border=\"1\" class=\"dataframe\">\n  <thead>\n    <tr style=\"text-align: right;\">\n      <th></th>\n      <th>Treatment</th>\n      <th>TreatID</th>\n      <th>Credit_rating</th>\n      <th>Target</th>\n      <th>Race</th>\n      <th>Gender</th>\n      <th>Age</th>\n      <th>NumberofRaters</th>\n      <th>Female_prop</th>\n      <th>Male_prop</th>\n      <th>...</th>\n      <th>d0781c8e-3afb-4646-a9b4-aae25df3a878</th>\n      <th>44a04a3d-f584-4b04-876a-1cc0355bc4c0</th>\n      <th>bc432d2f-43a1-4689-9677-f966ab34db25</th>\n      <th>554f6cf7-20f1-4f65-b0b9-99cf186f5c8b</th>\n      <th>45309d4c-d0d3-405e-b78d-66f73d030ba7</th>\n      <th>ddfef11a-4fb7-4902-ac61-5ea4c467d071</th>\n      <th>b7fc5cb1-9144-4ed5-977e-10aef25db405</th>\n      <th>80295a59-fa52-4931-9e12-3da112aa1b5e</th>\n      <th>70d3a688-4e4a-484f-a914-d412e8d806f4</th>\n      <th>f63d7c49-ab2b-476d-bac1-7957045f4e36</th>\n    </tr>\n  </thead>\n  <tbody>\n    <tr>\n      <th>0</th>\n      <td>T2</td>\n      <td>1</td>\n      <td>Very Good</td>\n      <td>AF-201</td>\n      <td>A</td>\n      <td>F</td>\n      <td>23.666667</td>\n      <td>27</td>\n      <td>1.000000</td>\n      <td>0.000000</td>\n      <td>...</td>\n      <td>1</td>\n      <td>1</td>\n      <td>2</td>\n      <td>2</td>\n      <td>2</td>\n      <td>1</td>\n      <td>3</td>\n      <td>2</td>\n      <td>2</td>\n      <td>2</td>\n    </tr>\n    <tr>\n      <th>1</th>\n      <td>T2</td>\n      <td>2</td>\n      <td>Poor</td>\n      <td>AF-205</td>\n      <td>A</td>\n      <td>F</td>\n      <td>26.592593</td>\n      <td>26</td>\n      <td>1.000000</td>\n      <td>0.000000</td>\n      <td>...</td>\n      <td>4</td>\n      <td>5</td>\n      <td>5</td>\n      <td>5</td>\n      <td>5</td>\n      <td>4</td>\n      <td>5</td>\n      <td>5</td>\n      <td>5</td>\n      <td>5</td>\n    </tr>\n    <tr>\n      <th>2</th>\n      <td>T2</td>\n      <td>3</td>\n      <td>Poor</td>\n      <td>AF-207</td>\n      <td>A</td>\n      <td>F</td>\n      <td>28.413793</td>\n      <td>28</td>\n      <td>1.000000</td>\n      <td>0.000000</td>\n      <td>...</td>\n      <td>4</td>\n      <td>5</td>\n      <td>5</td>\n      <td>5</td>\n      <td>5</td>\n      <td>4</td>\n      <td>5</td>\n      <td>5</td>\n      <td>5</td>\n      <td>5</td>\n    </tr>\n    <tr>\n      <th>3</th>\n      <td>T2</td>\n      <td>4</td>\n      <td>Poor</td>\n      <td>AF-211</td>\n      <td>A</td>\n      <td>F</td>\n      <td>22.500000</td>\n      <td>26</td>\n      <td>0.923077</td>\n      <td>0.076923</td>\n      <td>...</td>\n      <td>4</td>\n      <td>5</td>\n      <td>5</td>\n      <td>5</td>\n      <td>5</td>\n      <td>5</td>\n      <td>5</td>\n      <td>5</td>\n      <td>5</td>\n      <td>5</td>\n    </tr>\n    <tr>\n      <th>4</th>\n      <td>T2</td>\n      <td>5</td>\n      <td>Very Good</td>\n      <td>AF-212</td>\n      <td>A</td>\n      <td>F</td>\n      <td>23.857143</td>\n      <td>28</td>\n      <td>1.000000</td>\n      <td>0.000000</td>\n      <td>...</td>\n      <td>1</td>\n      <td>1</td>\n      <td>2</td>\n      <td>2</td>\n      <td>2</td>\n      <td>2</td>\n      <td>2</td>\n      <td>2</td>\n      <td>2</td>\n      <td>2</td>\n    </tr>\n  </tbody>\n</table>\n<p>5 rows × 281 columns</p>\n</div>"
     },
     "execution_count": 21,
     "metadata": {},
     "output_type": "execute_result"
    }
   ]
  },
  {
   "cell_type": "code",
   "execution_count": 27,
   "outputs": [],
   "source": [
    "mainlist = pd.Series(df.Credit_rating.values,index=df.TreatID).to_dict(into=OrderedDict)\n",
    "\n",
    "# mainlist"
   ],
   "metadata": {
    "collapsed": false,
    "pycharm": {
     "name": "#%%\n"
    }
   }
  },
  {
   "cell_type": "code",
   "execution_count": 28,
   "outputs": [],
   "source": [
    "dftest_1 = pd.DataFrame()\n",
    "dftest_2 =pd.DataFrame()"
   ],
   "metadata": {
    "collapsed": false,
    "pycharm": {
     "name": "#%%\n"
    }
   }
  },
  {
   "cell_type": "code",
   "execution_count": 29,
   "outputs": [],
   "source": [
    "for i in range(1,11):\n",
    "    test = random.sample(range(1,len(mainlist.keys())+1),len(mainlist.keys()))\n",
    "    out = [mainlist[item] for item in test]\n",
    "    dftest_1[\"col\"+str(i)] = out\n"
   ],
   "metadata": {
    "collapsed": false,
    "pycharm": {
     "name": "#%%\n"
    }
   }
  },
  {
   "cell_type": "code",
   "execution_count": 30,
   "outputs": [],
   "source": [
    "for i in range(1,11):\n",
    "    test_n = random.sample(range(1,len(mainlist.keys())+1),len(mainlist.keys()))\n",
    "    out_n = [mainlist[random.choice(test_n)] for x in range(1,len(test_n)+1)]\n",
    "    dftest_2[\"col\"+str(i)] = out_n\n"
   ],
   "metadata": {
    "collapsed": false,
    "pycharm": {
     "name": "#%%\n"
    }
   }
  },
  {
   "cell_type": "code",
   "execution_count": 32,
   "outputs": [],
   "source": [
    "dftest_1.to_csv('test_1.csv')\n",
    "dftest_2.to_csv('test_2.csv')"
   ],
   "metadata": {
    "collapsed": false,
    "pycharm": {
     "name": "#%%\n"
    }
   }
  },
  {
   "cell_type": "code",
   "execution_count": null,
   "outputs": [],
   "source": [],
   "metadata": {
    "collapsed": false,
    "pycharm": {
     "name": "#%%\n"
    }
   }
  }
 ],
 "metadata": {
  "kernelspec": {
   "name": "pycharm-45601ad6",
   "language": "python",
   "display_name": "PyCharm (Tier1)"
  },
  "language_info": {
   "codemirror_mode": {
    "name": "ipython",
    "version": 2
   },
   "file_extension": ".py",
   "mimetype": "text/x-python",
   "name": "python",
   "nbconvert_exporter": "python",
   "pygments_lexer": "ipython2",
   "version": "2.7.6"
  }
 },
 "nbformat": 4,
 "nbformat_minor": 0
}